{
 "cells": [
  {
   "attachments": {},
   "cell_type": "markdown",
   "metadata": {},
   "source": [
    "Set `autoreload` to execute the change in `.py` files.\n"
   ]
  },
  {
   "cell_type": "code",
   "execution_count": 1,
   "metadata": {},
   "outputs": [],
   "source": [
    "%load_ext autoreload\n",
    "%autoreload 2"
   ]
  },
  {
   "cell_type": "code",
   "execution_count": 2,
   "metadata": {},
   "outputs": [],
   "source": [
    "import _pickle\n",
    "from pathlib import Path\n",
    "import gc\n",
    "import os\n",
    "\n",
    "os.environ[\"CUDA_VISIBLE_DEVICES\"] = \"0\"\n",
    "\n",
    "from __utils__ import image_processing\n",
    "from __utils__ import label_processing\n",
    "from __utils__ import labeling\n",
    "from __utils__ import feature_processing\n",
    "from __utils__ import loso_preparing\n",
    "from __utils__ import functions"
   ]
  },
  {
   "cell_type": "code",
   "execution_count": null,
   "metadata": {},
   "outputs": [],
   "source": [
    "dataset_dir = \"D:/Databases/CAS(ME)^2\"\n",
    "# dataset_dir = \"I:/HEH/Databases/CAS(ME)^2\"\n",
    "# dataset_dir = \"/data/disk1/heh/databases/CAS(ME)^2\"\n",
    "\n",
    "images_loading = False\n",
    "image_size = 128\n",
    "load_cropped_images = False\n",
    "# expression_type = \"mae\"  # macro-expression spotting\n",
    "expression_type = \"me\"  # micro-expression spotting\n",
    "debug_preds = True\n",
    "labeling_function = \"pseudo_labeling\"\n",
    "# labeling_function = \"original_labeling\"\n",
    "model_names = {\n",
    "    0: \"SOFTNet\",\n",
    "    1: \"SOFTNetCBAM\",\n",
    "    2: \"ViT-B\",\n",
    "    3: \"SL-ViT-B\",\n",
    "    4: \"Swin-T\",\n",
    "    5: \"Swin-S\",\n",
    "    6: \"L-Swin-T\",\n",
    "    7: \"S-Swin-T\",\n",
    "    8: \"SL-Swin-T\",\n",
    "    9: \"SL-Swin-S\",\n",
    "}\n",
    "model_name = model_names[8]\n",
    "batch_size = 48\n",
    "epochs = 25\n",
    "save_preds = False\n",
    "preds_stem = (\n",
    "    f\"{expression_type}_\"\n",
    "    + model_name.lower().replace(\"-\", \"_\")\n",
    "    + f\"_batch_size_{batch_size}\"\n",
    "    + f\"_epochs_{epochs}\"\n",
    "    + f\"_{labeling_function}\"\n",
    "    + f\"_{image_size}\"\n",
    "    + \"_3\"\n",
    ")\n",
    "preds_path = Path(dataset_dir, \"preds\", preds_stem).with_suffix(\".pkl\")\n",
    "print(f\"preds_path: {preds_path}\")"
   ]
  },
  {
   "attachments": {},
   "cell_type": "markdown",
   "metadata": {},
   "source": [
    "## Load Images\n"
   ]
  },
  {
   "attachments": {},
   "cell_type": "markdown",
   "metadata": {},
   "source": [
    "When debug the image processing, the videos_images is from cropped_rawpic, whereas the other variables are from rawpic.\n"
   ]
  },
  {
   "cell_type": "code",
   "execution_count": 4,
   "metadata": {},
   "outputs": [
    {
     "name": "stdout",
     "output_type": "stream",
     "text": [
      "subject:  s15\n",
      "subject:  s16\n",
      "subject:  s19\n",
      "subject:  s20\n",
      "subject:  s21\n",
      "subject:  s22\n",
      "subject:  s23\n",
      "subject:  s24\n",
      "subject:  s25\n",
      "subject:  s26\n",
      "subject:  s27\n",
      "subject:  s29\n",
      "subject:  s30\n",
      "subject:  s31\n",
      "subject:  s32\n",
      "subject:  s33\n",
      "subject:  s34\n",
      "subject:  s35\n",
      "subject:  s36\n",
      "subject:  s37\n",
      "subject:  s38\n",
      "subject:  s40\n"
     ]
    }
   ],
   "source": [
    "videos_images, subjects, subjects_videos_code = image_processing.load_images(\n",
    "    dataset_dir,\n",
    "    images_loading=images_loading,\n",
    "    image_size=image_size,\n",
    "    load_cropped_images=load_cropped_images,\n",
    ")"
   ]
  },
  {
   "cell_type": "code",
   "execution_count": 5,
   "metadata": {},
   "outputs": [
    {
     "name": "stdout",
     "output_type": "stream",
     "text": [
      "subjects: ['s15', 's16', 's19', 's20', 's21', 's22', 's23', 's24', 's25', 's26', 's27', 's29', 's30', 's31', 's32', 's33', 's34', 's35', 's36', 's37', 's38', 's40']\n",
      "subjects_videos_code: [['0101', '0102', '0401', '0402', '0502', '0503', '0505', '0508'], ['0101', '0102', '0401', '0402', '0502', '0505', '0507'], ['0102', '0402', '0505', '0507', '0502'], ['0502'], ['0101', '0401'], ['0101', '0102', '0402', '0503', '0508'], ['0102', '0402', '0503', '0507'], ['0101', '0401', '0402', '0502', '0507'], ['0101', '0102', '0502', '0508'], ['0101', '0102', '0401', '0503'], ['0101', '0102', '0401', '0402', '0502', '0503', '0505', '0507', '0508'], ['0502'], ['0101', '0102', '0401', '0502', '0503', '0505', '0507'], ['0101', '0401', '0402', '0502', '0503', '0505', '0507'], ['0101', '0102', '0401', '0402', '0502', '0503', '0505', '0507', '0508'], ['0102', '0402'], ['0401', '0402', '0503'], ['0102'], ['0401', '0505'], ['0101', '0402', '0502', '0505', '0507', '0508'], ['0502', '0507'], ['0401', '0502', '0503']]\n"
     ]
    }
   ],
   "source": [
    "print(\"subjects:\", subjects)\n",
    "print(\"subjects_videos_code:\", subjects_videos_code)"
   ]
  },
  {
   "attachments": {},
   "cell_type": "markdown",
   "metadata": {},
   "source": [
    "## Load Excel \n"
   ]
  },
  {
   "cell_type": "code",
   "execution_count": 7,
   "metadata": {},
   "outputs": [
    {
     "data": {
      "text/html": [
       "<div>\n",
       "<style scoped>\n",
       "    .dataframe tbody tr th:only-of-type {\n",
       "        vertical-align: middle;\n",
       "    }\n",
       "\n",
       "    .dataframe tbody tr th {\n",
       "        vertical-align: top;\n",
       "    }\n",
       "\n",
       "    .dataframe thead th {\n",
       "        text-align: right;\n",
       "    }\n",
       "</style>\n",
       "<table border=\"1\" class=\"dataframe\">\n",
       "  <thead>\n",
       "    <tr style=\"text-align: right;\">\n",
       "      <th></th>\n",
       "      <th>participant</th>\n",
       "      <th>video_name_&amp;_expression_number</th>\n",
       "      <th>onset</th>\n",
       "      <th>apex</th>\n",
       "      <th>offset</th>\n",
       "      <th>AUs</th>\n",
       "      <th>extimated_emotion</th>\n",
       "      <th>expression_type</th>\n",
       "      <th>self-reported_emotion</th>\n",
       "      <th>video_name</th>\n",
       "      <th>video_code</th>\n",
       "      <th>subject</th>\n",
       "    </tr>\n",
       "  </thead>\n",
       "  <tbody>\n",
       "    <tr>\n",
       "      <th>0</th>\n",
       "      <td>1</td>\n",
       "      <td>anger1_1</td>\n",
       "      <td>557</td>\n",
       "      <td>572</td>\n",
       "      <td>608</td>\n",
       "      <td>4+10+14+15</td>\n",
       "      <td>negative</td>\n",
       "      <td>macro-expression</td>\n",
       "      <td>anger</td>\n",
       "      <td>anger1</td>\n",
       "      <td>0401</td>\n",
       "      <td>s15</td>\n",
       "    </tr>\n",
       "    <tr>\n",
       "      <th>1</th>\n",
       "      <td>1</td>\n",
       "      <td>anger1_2</td>\n",
       "      <td>2854</td>\n",
       "      <td>2862</td>\n",
       "      <td>2871</td>\n",
       "      <td>38</td>\n",
       "      <td>others</td>\n",
       "      <td>macro-expression</td>\n",
       "      <td>sadness</td>\n",
       "      <td>anger1</td>\n",
       "      <td>0401</td>\n",
       "      <td>s15</td>\n",
       "    </tr>\n",
       "    <tr>\n",
       "      <th>2</th>\n",
       "      <td>1</td>\n",
       "      <td>anger2_1</td>\n",
       "      <td>2155</td>\n",
       "      <td>2163</td>\n",
       "      <td>0</td>\n",
       "      <td>NaN</td>\n",
       "      <td>negative</td>\n",
       "      <td>macro-expression</td>\n",
       "      <td>anger</td>\n",
       "      <td>anger2</td>\n",
       "      <td>0402</td>\n",
       "      <td>s15</td>\n",
       "    </tr>\n",
       "    <tr>\n",
       "      <th>3</th>\n",
       "      <td>1</td>\n",
       "      <td>anger2_2</td>\n",
       "      <td>3363</td>\n",
       "      <td>3371</td>\n",
       "      <td>3383</td>\n",
       "      <td>4+7+14</td>\n",
       "      <td>negative</td>\n",
       "      <td>macro-expression</td>\n",
       "      <td>anger</td>\n",
       "      <td>anger2</td>\n",
       "      <td>0402</td>\n",
       "      <td>s15</td>\n",
       "    </tr>\n",
       "    <tr>\n",
       "      <th>4</th>\n",
       "      <td>1</td>\n",
       "      <td>anger2_3</td>\n",
       "      <td>3380</td>\n",
       "      <td>3386</td>\n",
       "      <td>3407</td>\n",
       "      <td>4+14+38</td>\n",
       "      <td>negative</td>\n",
       "      <td>macro-expression</td>\n",
       "      <td>anger</td>\n",
       "      <td>anger2</td>\n",
       "      <td>0402</td>\n",
       "      <td>s15</td>\n",
       "    </tr>\n",
       "  </tbody>\n",
       "</table>\n",
       "</div>"
      ],
      "text/plain": [
       "   participant video_name_&_expression_number  onset  apex  offset  \\\n",
       "0            1                       anger1_1    557   572     608   \n",
       "1            1                       anger1_2   2854  2862    2871   \n",
       "2            1                       anger2_1   2155  2163       0   \n",
       "3            1                       anger2_2   3363  3371    3383   \n",
       "4            1                       anger2_3   3380  3386    3407   \n",
       "\n",
       "          AUs extimated_emotion   expression_type self-reported_emotion  \\\n",
       "0  4+10+14+15          negative  macro-expression                 anger   \n",
       "1          38            others  macro-expression               sadness   \n",
       "2         NaN          negative  macro-expression                 anger   \n",
       "3      4+7+14          negative  macro-expression                 anger   \n",
       "4     4+14+38          negative  macro-expression                 anger   \n",
       "\n",
       "  video_name video_code subject  \n",
       "0     anger1       0401     s15  \n",
       "1     anger1       0401     s15  \n",
       "2     anger2       0402     s15  \n",
       "3     anger2       0402     s15  \n",
       "4     anger2       0402     s15  "
      ]
     },
     "execution_count": 7,
     "metadata": {},
     "output_type": "execute_result"
    }
   ],
   "source": [
    "Excel_data = label_processing.load_excel(dataset_dir)\n",
    "Excel_data.head(5)"
   ]
  },
  {
   "attachments": {},
   "cell_type": "markdown",
   "metadata": {},
   "source": [
    "## Load Ground Truth Labels\n"
   ]
  },
  {
   "cell_type": "code",
   "execution_count": 8,
   "metadata": {},
   "outputs": [
    {
     "name": "stdout",
     "output_type": "stream",
     "text": [
      "required_videos_index:  [1, 4, 8, 9, 12, 13, 14, 16, 28, 33, 36, 37, 38, 45, 46, 47, 49, 50, 52, 54, 55, 57, 62, 64, 67, 71, 73, 74, 77, 83, 87, 91, 93]\n",
      "len(clean_videos_images) = 33\n"
     ]
    }
   ],
   "source": [
    "(\n",
    "    clean_videos_images,\n",
    "    clean_subjects_videos_code,\n",
    "    clean_subjects,\n",
    "    clean_subjects_videos_ground_truth_labels,\n",
    ") = label_processing.load_ground_truth_labels(\n",
    "    dataset_dir,\n",
    "    expression_type,\n",
    "    videos_images,\n",
    "    subjects_videos_code,\n",
    "    subjects,\n",
    "    Excel_data,\n",
    ")"
   ]
  },
  {
   "cell_type": "code",
   "execution_count": 9,
   "metadata": {},
   "outputs": [
    {
     "name": "stdout",
     "output_type": "stream",
     "text": [
      "len(clean_subjects):  14\n",
      "clean_subjects:  ['s15' 's16' 's19' 's23' 's24' 's25' 's27' 's29' 's30' 's31' 's32' 's35'\n",
      " 's37' 's38']\n",
      "len(clean_subjects_videos_code):  14\n",
      "clean_subjects_videos_codes:  [['0102', '0502'], ['0101', '0102', '0502', '0505', '0507'], ['0402'], ['0102'], ['0401', '0507'], ['0101', '0102'], ['0101', '0102', '0401', '0502', '0503', '0507'], ['0502'], ['0101', '0401'], ['0101', '0402', '0505'], ['0401', '0502', '0503', '0508'], ['0102'], ['0402', '0508'], ['0507']]\n",
      "len(clean_subjects_videos_ground_truth_labels):  14\n",
      "clean_subjects_videos_ground_truth_labels:  [[[[698, 706]], [[137, 147]]], [[[551, 564]], [[269, 277]], [[322, 333]], [[395, 406], [1694, 1709], [1879, 1894]], [[1957, 1967], [2284, 2294]]], [[[1926, 1941]]], [[[330, 345], [525, 539], [726, 739]]], [[[607, 620], [962, 976], [1889, 1901], [2180, 2192], [3440, 3452]], [[1835, 1847], [1950, 1964], [3232, 3247]]], [[[112, 126]], [[995, 1007], [1007, 1016], [1017, 1033]]], [[[873, 887]], [[33, 47], [308, 316], [373, 387]], [[351, 364], [368, 381], [1134, 1146], [1973, 1985]], [[612, 627]], [[418, 431]], [[875, 889]]], [[[139, 151]]], [[[1454, 1465]], [[925, 940]]], [[[1420, 1432]], [[1688, 1701], [2189, 2203], [2376, 2388], [3802, 3814]], [[1045, 1058]]], [[[267, 277]], [[310, 323], [1170, 1183]], [[257, 271], [1030, 1043]], [[285, 300]]], [[[99, 112], [362, 370]]], [[[3501, 3513]], [[417, 429]]], [[[2231, 2246]]]]\n"
     ]
    }
   ],
   "source": [
    "print(\"len(clean_subjects): \", len(clean_subjects))\n",
    "print(\"clean_subjects: \", clean_subjects)\n",
    "print(\"len(clean_subjects_videos_code): \", len(clean_subjects_videos_code))\n",
    "print(\"clean_subjects_videos_codes: \", clean_subjects_videos_code)\n",
    "print(\n",
    "    \"len(clean_subjects_videos_ground_truth_labels): \",\n",
    "    len(clean_subjects_videos_ground_truth_labels),\n",
    ")\n",
    "print(\n",
    "    \"clean_subjects_videos_ground_truth_labels: \",\n",
    "    clean_subjects_videos_ground_truth_labels,\n",
    ")"
   ]
  },
  {
   "attachments": {},
   "cell_type": "markdown",
   "metadata": {},
   "source": [
    "## Calculate k\n"
   ]
  },
  {
   "cell_type": "code",
   "execution_count": 10,
   "metadata": {},
   "outputs": [
    {
     "name": "stdout",
     "output_type": "stream",
     "text": [
      "k (Half of average length of expression) =  6\n"
     ]
    }
   ],
   "source": [
    "k = label_processing.calculate_k(clean_subjects_videos_ground_truth_labels)"
   ]
  },
  {
   "attachments": {},
   "cell_type": "markdown",
   "metadata": {},
   "source": [
    "## Extract Features\n"
   ]
  },
  {
   "cell_type": "code",
   "execution_count": 11,
   "metadata": {},
   "outputs": [],
   "source": [
    "# clean_videos_images_features = feature_processing.extract_features(\n",
    "#     clean_videos_images, k, image_size=128\n",
    "# )"
   ]
  },
  {
   "attachments": {},
   "cell_type": "markdown",
   "metadata": {},
   "source": [
    "## Pre-processing\n"
   ]
  },
  {
   "cell_type": "code",
   "execution_count": 12,
   "metadata": {},
   "outputs": [],
   "source": [
    "# resampled_clean_videos_images_features = feature_processing.preprocess(\n",
    "#     clean_videos_images, clean_videos_images_features, k\n",
    "# )"
   ]
  },
  {
   "attachments": {},
   "cell_type": "markdown",
   "metadata": {},
   "source": [
    "### Dump Resampled Clean Videos Images Features\n"
   ]
  },
  {
   "cell_type": "code",
   "execution_count": 13,
   "metadata": {},
   "outputs": [],
   "source": [
    "# with open(\n",
    "#     Path(\n",
    "#         dataset_dir,\n",
    "#         f\"resampled_clean_videos_images_{expression_type}_features_\"\n",
    "#         + str(image_size)\n",
    "#         + \".pkl\",\n",
    "#     ),\n",
    "#     \"wb\",\n",
    "# ) as pkl_file:\n",
    "#     _pickle.dump(resampled_clean_videos_images_features, pkl_file)\n",
    "#     pkl_file.close()"
   ]
  },
  {
   "attachments": {},
   "cell_type": "markdown",
   "metadata": {},
   "source": [
    "### Load **Original** Resampled Clean Videos Images Features\n"
   ]
  },
  {
   "cell_type": "code",
   "execution_count": 14,
   "metadata": {},
   "outputs": [],
   "source": [
    "# with open(\n",
    "#     Path(\n",
    "#         dataset_dir,\n",
    "#         f\"original_resampled_clean_videos_images_{expression_type}_features.pkl\",\n",
    "#     ),\n",
    "#     \"rb\",\n",
    "# ) as pkl_file:\n",
    "#     resampled_clean_videos_images_features = _pickle.load(pkl_file)\n",
    "#     pkl_file.close()"
   ]
  },
  {
   "attachments": {},
   "cell_type": "markdown",
   "metadata": {},
   "source": [
    "### Load Resampled Clean Videos Images Features\n"
   ]
  },
  {
   "cell_type": "code",
   "execution_count": 15,
   "metadata": {},
   "outputs": [],
   "source": [
    "if debug_preds is False:\n",
    "    with open(\n",
    "        Path(\n",
    "            dataset_dir,\n",
    "            f\"resampled_clean_videos_images_{expression_type}_features_\"\n",
    "            + str(image_size)\n",
    "            + \".pkl\",\n",
    "        ),\n",
    "        \"rb\",\n",
    "    ) as pkl_file:\n",
    "        resampled_clean_videos_images_features = _pickle.load(pkl_file)\n",
    "        pkl_file.close()"
   ]
  },
  {
   "cell_type": "code",
   "execution_count": 16,
   "metadata": {},
   "outputs": [],
   "source": [
    "if debug_preds is False:\n",
    "    print(\n",
    "        \"len(resampled_clean_videos_images_features): \",\n",
    "        len(resampled_clean_videos_images_features),\n",
    "    )\n",
    "    print(\n",
    "        \"len(resampled_clean_videos_images_features[0]): \",\n",
    "        len(resampled_clean_videos_images_features[0]),\n",
    "    )\n",
    "    print(\n",
    "        \"resampled_clean_videos_images_features[0][0].shape: \",\n",
    "        resampled_clean_videos_images_features[0][0].shape,\n",
    "    )"
   ]
  },
  {
   "attachments": {},
   "cell_type": "markdown",
   "metadata": {},
   "source": [
    "## Labeling\n"
   ]
  },
  {
   "cell_type": "code",
   "execution_count": 17,
   "metadata": {},
   "outputs": [
    {
     "name": "stdout",
     "output_type": "stream",
     "text": [
      "Total frames: 80463\n"
     ]
    }
   ],
   "source": [
    "if debug_preds is False:\n",
    "    if labeling_function == \"pseudo_labeling\":\n",
    "        labels = labeling.get_pseudo_labels(\n",
    "            clean_videos_images, clean_subjects_videos_ground_truth_labels, k\n",
    "        )\n",
    "    elif labeling_function == \"original_labeling\":\n",
    "        labels = labeling.get_original_labels(\n",
    "            clean_videos_images, clean_subjects_videos_ground_truth_labels, k\n",
    "        )"
   ]
  },
  {
   "attachments": {},
   "cell_type": "markdown",
   "metadata": {},
   "source": [
    "## Prepare for LOSO\n"
   ]
  },
  {
   "cell_type": "code",
   "execution_count": 18,
   "metadata": {},
   "outputs": [],
   "source": [
    "if debug_preds is False:\n",
    "    X, y, groups = loso_preparing.legacy_prepare_for_loso(\n",
    "        resampled_clean_videos_images_features,\n",
    "        labels,\n",
    "        clean_subjects,\n",
    "        clean_videos_images,\n",
    "        clean_subjects_videos_ground_truth_labels,\n",
    "        k,\n",
    "    )"
   ]
  },
  {
   "cell_type": "code",
   "execution_count": 19,
   "metadata": {},
   "outputs": [],
   "source": [
    "if debug_preds is False:\n",
    "    del resampled_clean_videos_images_features\n",
    "    gc.collect()"
   ]
  },
  {
   "attachments": {},
   "cell_type": "markdown",
   "metadata": {},
   "source": [
    "## Training\n"
   ]
  },
  {
   "cell_type": "code",
   "execution_count": 25,
   "metadata": {},
   "outputs": [],
   "source": [
    "if debug_preds is False:\n",
    "    from __utils__.training_dev import train\n",
    "\n",
    "    preds = train(\n",
    "        X=X,\n",
    "        y=y,\n",
    "        groups=groups,\n",
    "        expression_type=expression_type,\n",
    "        model_name=model_name,\n",
    "        train_or_not=True,\n",
    "        epochs=epochs,\n",
    "        batch_size=batch_size,\n",
    "    )\n",
    "else:\n",
    "    with open(preds_path, \"rb\") as pkl_file:\n",
    "        preds = _pickle.load(pkl_file)\n",
    "        pkl_file.close()"
   ]
  },
  {
   "cell_type": "code",
   "execution_count": 26,
   "metadata": {},
   "outputs": [],
   "source": [
    "if save_preds is True:\n",
    "    with open(preds_path, \"wb\") as pkl_file:\n",
    "        _pickle.dump(preds, pkl_file)\n",
    "        pkl_file.close()"
   ]
  },
  {
   "attachments": {},
   "cell_type": "markdown",
   "metadata": {},
   "source": [
    "## Spotting\n"
   ]
  },
  {
   "cell_type": "code",
   "execution_count": 27,
   "metadata": {},
   "outputs": [
    {
     "name": "stdout",
     "output_type": "stream",
     "text": [
      "Split 0 / 14 is in process.\n",
      "0 video(s) have been processed.\n",
      "The current video be processed: subject s15, video 0102\n",
      "The current video be processed: subject s15, video 0502\n",
      "\n",
      "True Positive: 0 False Posive: 21 False Negative: 2\n",
      "Precision = 2.220446049250313e-16, Recall =2.220446049250313e-16, F1-Score = 4.440892098500626e-16\n",
      "Split 0 / 14 is processed.\n",
      "\n",
      "Split 1 / 14 is in process.\n",
      "2 video(s) have been processed.\n",
      "The current video be processed: subject s16, video 0101\n",
      "The current video be processed: subject s16, video 0102\n",
      "The current video be processed: subject s16, video 0502\n",
      "The current video be processed: subject s16, video 0505\n",
      "The current video be processed: subject s16, video 0507\n",
      "\n",
      "True Positive: 1 False Posive: 53 False Negative: 9\n",
      "Precision = 0.01851851851851874, Recall =0.10000000000000023, F1-Score = 0.03125000000000055\n",
      "Split 1 / 14 is processed.\n",
      "\n",
      "Split 2 / 14 is in process.\n",
      "7 video(s) have been processed.\n",
      "The current video be processed: subject s19, video 0402\n",
      "\n",
      "True Positive: 1 False Posive: 68 False Negative: 10\n",
      "Precision = 0.014492753623188628, Recall =0.09090909090909113, F1-Score = 0.025000000000000563\n",
      "Split 2 / 14 is processed.\n",
      "\n",
      "Split 3 / 14 is in process.\n",
      "8 video(s) have been processed.\n",
      "The current video be processed: subject s23, video 0102\n",
      "\n",
      "True Positive: 1 False Posive: 96 False Negative: 13\n",
      "Precision = 0.010309278350515686, Recall =0.07142857142857165, F1-Score = 0.018018018018018583\n",
      "Split 3 / 14 is processed.\n",
      "\n",
      "Split 4 / 14 is in process.\n",
      "9 video(s) have been processed.\n",
      "The current video be processed: subject s24, video 0401\n",
      "The current video be processed: subject s24, video 0507\n",
      "\n",
      "True Positive: 1 False Posive: 106 False Negative: 21\n",
      "Precision = 0.009345794392523586, Recall =0.04545454545454568, F1-Score = 0.015503875968992787\n",
      "Split 4 / 14 is processed.\n",
      "\n",
      "Split 5 / 14 is in process.\n",
      "11 video(s) have been processed.\n",
      "The current video be processed: subject s25, video 0101\n",
      "The current video be processed: subject s25, video 0102\n",
      "\n",
      "True Positive: 4 False Posive: 135 False Negative: 22\n",
      "Precision = 0.02877697841726641, Recall =0.15384615384615408, F1-Score = 0.04848484848484904\n",
      "Split 5 / 14 is processed.\n",
      "\n",
      "Split 6 / 14 is in process.\n",
      "13 video(s) have been processed.\n",
      "The current video be processed: subject s27, video 0101\n",
      "The current video be processed: subject s27, video 0102\n",
      "The current video be processed: subject s27, video 0401\n",
      "The current video be processed: subject s27, video 0502\n",
      "The current video be processed: subject s27, video 0503\n",
      "The current video be processed: subject s27, video 0507\n",
      "\n",
      "True Positive: 9 False Posive: 167 False Negative: 28\n",
      "Precision = 0.05113636363636386, Recall =0.24324324324324348, F1-Score = 0.08450704225352167\n",
      "Split 6 / 14 is processed.\n",
      "\n",
      "Split 7 / 14 is in process.\n",
      "19 video(s) have been processed.\n",
      "The current video be processed: subject s29, video 0502\n",
      "\n",
      "True Positive: 9 False Posive: 183 False Negative: 29\n",
      "Precision = 0.04687500000000022, Recall =0.2368421052631581, F1-Score = 0.07826086956521794\n",
      "Split 7 / 14 is processed.\n",
      "\n",
      "Split 8 / 14 is in process.\n",
      "20 video(s) have been processed.\n",
      "The current video be processed: subject s30, video 0101\n",
      "The current video be processed: subject s30, video 0401\n",
      "\n",
      "True Positive: 10 False Posive: 225 False Negative: 30\n",
      "Precision = 0.04255319148936192, Recall =0.2500000000000002, F1-Score = 0.07272727272727328\n",
      "Split 8 / 14 is processed.\n",
      "\n",
      "Split 9 / 14 is in process.\n",
      "22 video(s) have been processed.\n",
      "The current video be processed: subject s31, video 0101\n",
      "The current video be processed: subject s31, video 0402\n",
      "The current video be processed: subject s31, video 0505\n",
      "\n",
      "True Positive: 11 False Posive: 238 False Negative: 35\n",
      "Precision = 0.04417670682730946, Recall =0.23913043478260892, F1-Score = 0.07457627118644124\n",
      "Split 9 / 14 is processed.\n",
      "\n",
      "Split 10 / 14 is in process.\n",
      "25 video(s) have been processed.\n",
      "The current video be processed: subject s32, video 0401\n",
      "The current video be processed: subject s32, video 0502\n",
      "The current video be processed: subject s32, video 0503\n",
      "The current video be processed: subject s32, video 0508\n",
      "\n",
      "True Positive: 13 False Posive: 267 False Negative: 39\n",
      "Precision = 0.04642857142857165, Recall =0.2500000000000002, F1-Score = 0.07831325301204875\n",
      "Split 10 / 14 is processed.\n",
      "\n",
      "Split 11 / 14 is in process.\n",
      "29 video(s) have been processed.\n",
      "The current video be processed: subject s35, video 0102\n",
      "\n",
      "True Positive: 13 False Posive: 269 False Negative: 41\n",
      "Precision = 0.04609929078014206, Recall =0.24074074074074095, F1-Score = 0.07738095238095292\n",
      "Split 11 / 14 is processed.\n",
      "\n",
      "Split 12 / 14 is in process.\n",
      "30 video(s) have been processed.\n",
      "The current video be processed: subject s37, video 0402\n",
      "The current video be processed: subject s37, video 0508\n",
      "\n",
      "True Positive: 14 False Posive: 288 False Negative: 42\n",
      "Precision = 0.04635761589403996, Recall =0.2500000000000002, F1-Score = 0.07821229050279384\n",
      "Split 12 / 14 is processed.\n",
      "\n",
      "Split 13 / 14 is in process.\n",
      "32 video(s) have been processed.\n",
      "The current video be processed: subject s38, video 0507\n",
      "\n",
      "True Positive: 14 False Posive: 298 False Negative: 43\n",
      "Precision = 0.044871794871795094, Recall =0.2456140350877195, F1-Score = 0.07588075880758863\n",
      "Split 13 / 14 is processed.\n",
      "\n"
     ]
    }
   ],
   "source": [
    "metric_fn, result_dict = functions.spot_and_evaluate(\n",
    "    preds,\n",
    "    clean_subjects_videos_ground_truth_labels,\n",
    "    clean_videos_images,\n",
    "    clean_subjects,\n",
    "    clean_subjects_videos_code,\n",
    "    k,\n",
    "    p=0.60,\n",
    "    show_plot_or_not=False,\n",
    ")"
   ]
  },
  {
   "attachments": {},
   "cell_type": "markdown",
   "metadata": {},
   "source": [
    "## Final Evaluation\n"
   ]
  },
  {
   "cell_type": "code",
   "execution_count": 28,
   "metadata": {},
   "outputs": [
    {
     "name": "stdout",
     "output_type": "stream",
     "text": [
      "True Positive: 14 False Posive: 298 False Negative: 43\n",
      "COCO AP@[.5:.95]: 0.0036\n",
      "Final Precision = 0.044871794871795094,\n",
      "Final Recall =0.2456140350877195,\n",
      "Final F1-Score = 0.07588075880758863\n",
      "\n",
      "Highest Precision = 0.05113636363636386,\n",
      "Highest Recall =0.2500000000000002,\n",
      "Highest F1-Score = 0.08450704225352167\n"
     ]
    }
   ],
   "source": [
    "functions.final_evaluate(metric_fn, result_dict)"
   ]
  },
  {
   "attachments": {},
   "cell_type": "markdown",
   "metadata": {},
   "source": [
    "| Parameters | Value | Value | Value\n",
    "| --- | --- | --- | ---\n",
    "| model | 3D-CNN | SOFTNet | SOFTNet (main_dev)\n",
    "| epochs | | 20 (39 m)| 20 (39 m)\n",
    "| batch_size | | 48 | 48\n",
    "| learning_rate | | 0.0005 | 0.0005\n",
    "| True Positive | | 19 | 16\n",
    "| False Positive | | 252 | 238\n",
    "| False Negative | | 38 | 41\n",
    "| Precision | | 0.0701 | 0.0629\n",
    "| Recall | | 0.3333 | 0.2807\n",
    "| F1-Score | 0.0714 | 0.1159 | 0.1028\n"
   ]
  },
  {
   "attachments": {},
   "cell_type": "markdown",
   "metadata": {},
   "source": [
    "| Parameters | Value |\n",
    "| --- | --- |\n",
    "| model | ViT |\n",
    "| epochs | 20 (159 m) |\n",
    "| batch_size | 48 |\n",
    "| learning_rate | 0.0005 |\n",
    "| learning_rate_decay | none |\n",
    "| True Positive | 2 |\n",
    "| False Positive | 776 |\n",
    "| False Negative | 55 |\n",
    "| Precision | 0.0025 |\n",
    "| Recall | 0.0350 |\n",
    "| F1-Score | 0.0047 |\n"
   ]
  },
  {
   "attachments": {},
   "cell_type": "markdown",
   "metadata": {},
   "source": [
    "without pos_embedding\n"
   ]
  },
  {
   "attachments": {},
   "cell_type": "markdown",
   "metadata": {},
   "source": [
    "| Parameters | Value | Value\n",
    "| --- | --- | ---\n",
    "| model | SL-Swin-T | SL-Swin-T\n",
    "| epochs | 25 | 20 (665 m)\n",
    "| batch_size | 32 | 96\n",
    "| learning_rate | 0.0005 | 0.0005\n",
    "| learning_rate_decay | none | none\n",
    "| True Positive | 12 | 4\n",
    "| False Positive | 403 | 366\n",
    "| False Negative | 45 | 53\n",
    "| Precision | 0.0289 | 0.0108\n",
    "| Recall | 0.2105 | 0.0701\n",
    "| F1-Score | 0.0508 | 0.0187\n"
   ]
  },
  {
   "attachments": {},
   "cell_type": "markdown",
   "metadata": {},
   "source": [
    "## Ablation Study\n"
   ]
  },
  {
   "cell_type": "code",
   "execution_count": 29,
   "metadata": {},
   "outputs": [
    {
     "name": "stdout",
     "output_type": "stream",
     "text": [
      " p | TP | FP | FN | Precision | Recall | F1-Score\n",
      "0.01 | 41 | 4734 | 16 | 0.0086 | 0.7193 | 0.0170 |\n",
      "0.02 | 41 | 4534 | 16 | 0.0090 | 0.7193 | 0.0177 |\n",
      "0.03 | 39 | 4298 | 18 | 0.0090 | 0.6842 | 0.0178 |\n",
      "0.04 | 39 | 4111 | 18 | 0.0094 | 0.6842 | 0.0185 |\n",
      "0.05 | 37 | 3928 | 20 | 0.0093 | 0.6491 | 0.0184 |\n",
      "0.06 | 37 | 3761 | 20 | 0.0097 | 0.6491 | 0.0192 |\n",
      "0.07 | 37 | 3560 | 20 | 0.0103 | 0.6491 | 0.0203 |\n",
      "0.08 | 37 | 3397 | 20 | 0.0108 | 0.6491 | 0.0212 |\n",
      "0.09 | 37 | 3219 | 20 | 0.0114 | 0.6491 | 0.0223 |\n",
      "0.10 | 37 | 3074 | 20 | 0.0119 | 0.6491 | 0.0234 |\n",
      "0.11 | 35 | 2909 | 22 | 0.0119 | 0.6140 | 0.0233 |\n",
      "0.12 | 34 | 2768 | 23 | 0.0121 | 0.5965 | 0.0238 |\n",
      "0.13 | 34 | 2654 | 23 | 0.0126 | 0.5965 | 0.0248 |\n",
      "0.14 | 33 | 2536 | 24 | 0.0128 | 0.5789 | 0.0251 |\n",
      "0.15 | 33 | 2405 | 24 | 0.0135 | 0.5789 | 0.0265 |\n",
      "0.16 | 32 | 2282 | 25 | 0.0138 | 0.5614 | 0.0270 |\n",
      "0.17 | 29 | 2183 | 28 | 0.0131 | 0.5088 | 0.0256 |\n",
      "0.18 | 28 | 2078 | 29 | 0.0133 | 0.4912 | 0.0259 |\n",
      "0.19 | 27 | 1975 | 30 | 0.0135 | 0.4737 | 0.0262 |\n",
      "0.20 | 27 | 1878 | 30 | 0.0142 | 0.4737 | 0.0275 |\n",
      "0.21 | 27 | 1783 | 30 | 0.0149 | 0.4737 | 0.0289 |\n",
      "0.22 | 27 | 1705 | 30 | 0.0156 | 0.4737 | 0.0302 |\n",
      "0.23 | 27 | 1627 | 30 | 0.0163 | 0.4737 | 0.0316 |\n",
      "0.24 | 26 | 1537 | 31 | 0.0166 | 0.4561 | 0.0321 |\n",
      "0.25 | 25 | 1454 | 32 | 0.0169 | 0.4386 | 0.0326 |\n",
      "0.26 | 25 | 1372 | 32 | 0.0179 | 0.4386 | 0.0344 |\n",
      "0.27 | 25 | 1299 | 32 | 0.0189 | 0.4386 | 0.0362 |\n",
      "0.28 | 24 | 1241 | 33 | 0.0190 | 0.4211 | 0.0363 |\n",
      "0.29 | 24 | 1186 | 33 | 0.0198 | 0.4211 | 0.0379 |\n",
      "0.30 | 22 | 1128 | 35 | 0.0191 | 0.3860 | 0.0365 |\n",
      "0.31 | 21 | 1069 | 36 | 0.0193 | 0.3684 | 0.0366 |\n",
      "0.32 | 21 | 1023 | 36 | 0.0201 | 0.3684 | 0.0381 |\n",
      "0.33 | 21 | 967 | 36 | 0.0213 | 0.3684 | 0.0402 |\n",
      "0.34 | 21 | 907 | 36 | 0.0226 | 0.3684 | 0.0426 |\n",
      "0.35 | 20 | 855 | 37 | 0.0229 | 0.3509 | 0.0429 |\n",
      "0.36 | 20 | 818 | 37 | 0.0239 | 0.3509 | 0.0447 |\n",
      "0.37 | 20 | 778 | 37 | 0.0251 | 0.3509 | 0.0468 |\n",
      "0.38 | 20 | 739 | 37 | 0.0264 | 0.3509 | 0.0490 |\n",
      "0.39 | 20 | 691 | 37 | 0.0281 | 0.3509 | 0.0521 |\n",
      "0.40 | 20 | 661 | 37 | 0.0294 | 0.3509 | 0.0542 |\n",
      "0.41 | 19 | 624 | 38 | 0.0295 | 0.3333 | 0.0543 |\n",
      "0.42 | 19 | 582 | 38 | 0.0316 | 0.3333 | 0.0578 |\n",
      "0.43 | 18 | 549 | 39 | 0.0317 | 0.3158 | 0.0577 |\n",
      "0.44 | 18 | 520 | 39 | 0.0335 | 0.3158 | 0.0605 |\n",
      "0.45 | 17 | 494 | 40 | 0.0333 | 0.2982 | 0.0599 |\n",
      "0.46 | 17 | 464 | 40 | 0.0353 | 0.2982 | 0.0632 |\n",
      "0.47 | 17 | 439 | 40 | 0.0373 | 0.2982 | 0.0663 |\n",
      "0.48 | 16 | 418 | 41 | 0.0369 | 0.2807 | 0.0652 |\n",
      "0.49 | 16 | 398 | 41 | 0.0386 | 0.2807 | 0.0679 |\n",
      "0.50 | 15 | 378 | 42 | 0.0382 | 0.2632 | 0.0667 |\n",
      "0.51 | 15 | 366 | 42 | 0.0394 | 0.2632 | 0.0685 |\n",
      "0.52 | 15 | 347 | 42 | 0.0414 | 0.2632 | 0.0716 |\n",
      "0.53 | 15 | 335 | 42 | 0.0429 | 0.2632 | 0.0737 |\n",
      "0.54 | 15 | 321 | 42 | 0.0446 | 0.2632 | 0.0763 |\n",
      "0.55 | 14 | 298 | 43 | 0.0449 | 0.2456 | 0.0759 |\n",
      "0.56 | 14 | 280 | 43 | 0.0476 | 0.2456 | 0.0798 |\n",
      "0.57 | 14 | 266 | 43 | 0.0500 | 0.2456 | 0.0831 |\n",
      "0.58 | 14 | 252 | 43 | 0.0526 | 0.2456 | 0.0867 |\n",
      "0.59 | 14 | 239 | 43 | 0.0553 | 0.2456 | 0.0903 |\n",
      "0.60 | 13 | 232 | 44 | 0.0531 | 0.2281 | 0.0861 |\n",
      "0.61 | 13 | 223 | 44 | 0.0551 | 0.2281 | 0.0887 |\n",
      "0.62 | 13 | 211 | 44 | 0.0580 | 0.2281 | 0.0925 |\n",
      "0.63 | 13 | 200 | 44 | 0.0610 | 0.2281 | 0.0963 |\n",
      "0.64 | 13 | 192 | 44 | 0.0634 | 0.2281 | 0.0992 |\n",
      "0.65 | 13 | 188 | 44 | 0.0647 | 0.2281 | 0.1008 |\n",
      "0.66 | 13 | 181 | 44 | 0.0670 | 0.2281 | 0.1036 |\n",
      "0.67 | 12 | 172 | 45 | 0.0652 | 0.2105 | 0.0996 |\n",
      "0.68 | 10 | 164 | 47 | 0.0575 | 0.1754 | 0.0866 |\n",
      "0.69 | 10 | 154 | 47 | 0.0610 | 0.1754 | 0.0905 |\n",
      "0.70 | 10 | 145 | 47 | 0.0645 | 0.1754 | 0.0943 |\n",
      "0.71 | 10 | 133 | 47 | 0.0699 | 0.1754 | 0.1000 |\n",
      "0.72 | 9 | 128 | 48 | 0.0657 | 0.1579 | 0.0928 |\n",
      "0.73 | 8 | 119 | 49 | 0.0630 | 0.1404 | 0.0870 |\n",
      "0.74 | 6 | 113 | 51 | 0.0504 | 0.1053 | 0.0682 |\n",
      "0.75 | 6 | 108 | 51 | 0.0526 | 0.1053 | 0.0702 |\n",
      "0.76 | 6 | 101 | 51 | 0.0561 | 0.1053 | 0.0732 |\n",
      "0.77 | 6 | 95 | 51 | 0.0594 | 0.1053 | 0.0759 |\n",
      "0.78 | 6 | 93 | 51 | 0.0606 | 0.1053 | 0.0769 |\n",
      "0.79 | 5 | 91 | 52 | 0.0521 | 0.0877 | 0.0654 |\n",
      "0.80 | 4 | 85 | 53 | 0.0449 | 0.0702 | 0.0548 |\n",
      "0.81 | 4 | 79 | 53 | 0.0482 | 0.0702 | 0.0571 |\n",
      "0.82 | 3 | 76 | 54 | 0.0380 | 0.0526 | 0.0441 |\n",
      "0.83 | 3 | 73 | 54 | 0.0395 | 0.0526 | 0.0451 |\n",
      "0.84 | 3 | 69 | 54 | 0.0417 | 0.0526 | 0.0465 |\n",
      "0.85 | 3 | 65 | 54 | 0.0441 | 0.0526 | 0.0480 |\n",
      "0.86 | 3 | 62 | 54 | 0.0462 | 0.0526 | 0.0492 |\n",
      "0.87 | 3 | 61 | 54 | 0.0469 | 0.0526 | 0.0496 |\n",
      "0.88 | 3 | 60 | 54 | 0.0476 | 0.0526 | 0.0500 |\n",
      "0.89 | 3 | 55 | 54 | 0.0517 | 0.0526 | 0.0522 |\n",
      "0.90 | 3 | 52 | 54 | 0.0545 | 0.0526 | 0.0536 |\n",
      "0.91 | 3 | 48 | 54 | 0.0588 | 0.0526 | 0.0556 |\n",
      "0.92 | 3 | 46 | 54 | 0.0612 | 0.0526 | 0.0566 |\n",
      "0.93 | 3 | 43 | 54 | 0.0652 | 0.0526 | 0.0583 |\n",
      "0.94 | 3 | 38 | 54 | 0.0732 | 0.0526 | 0.0612 |\n",
      "0.95 | 3 | 37 | 54 | 0.0750 | 0.0526 | 0.0619 |\n",
      "0.96 | 3 | 36 | 54 | 0.0769 | 0.0526 | 0.0625 |\n",
      "0.97 | 3 | 33 | 54 | 0.0833 | 0.0526 | 0.0645 |\n",
      "0.98 | 3 | 32 | 54 | 0.0857 | 0.0526 | 0.0652 |\n",
      "0.99 | 3 | 32 | 54 | 0.0857 | 0.0526 | 0.0652 |\n"
     ]
    }
   ],
   "source": [
    "ablation_dict = functions.ablation_study_p_dev(\n",
    "    preds,\n",
    "    clean_subjects_videos_ground_truth_labels,\n",
    "    clean_videos_images,\n",
    "    clean_subjects,\n",
    "    clean_subjects_videos_code,\n",
    "    k,\n",
    ")"
   ]
  }
 ],
 "metadata": {
  "kernelspec": {
   "display_name": "Python 3",
   "language": "python",
   "name": "python3"
  },
  "language_info": {
   "codemirror_mode": {
    "name": "ipython",
    "version": 3
   },
   "file_extension": ".py",
   "mimetype": "text/x-python",
   "name": "python",
   "nbconvert_exporter": "python",
   "pygments_lexer": "ipython3",
   "version": "3.11.4"
  },
  "orig_nbformat": 4,
  "vscode": {
   "interpreter": {
    "hash": "6696e3028ae55fa5be357812587f73779dfb157cc851dab91c4ca8ffd3c7a806"
   }
  }
 },
 "nbformat": 4,
 "nbformat_minor": 2
}
